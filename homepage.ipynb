{
 "cells": [
  {
   "cell_type": "code",
   "execution_count": 1,
   "metadata": {},
   "outputs": [],
   "source": [
    "import os\n",
    "import ipyvuetify as v\n",
    "import scrapbook as sb\n",
    "import yaml"
   ]
  },
  {
   "cell_type": "code",
   "execution_count": 2,
   "metadata": {},
   "outputs": [],
   "source": [
    "with open('config.yml', 'r') as f:\n",
    "    config = yaml.safe_load(f)"
   ]
  },
  {
   "cell_type": "code",
   "execution_count": 3,
   "metadata": {},
   "outputs": [],
   "source": [
    "title_bar_color = config['title_bar_color']"
   ]
  },
  {
   "cell_type": "code",
   "execution_count": 4,
   "metadata": {},
   "outputs": [],
   "source": [
    "logo = {\n",
    "    'jupyter': 'https://jupyter.org/assets/nav_logo.svg'\n",
    "}"
   ]
  },
  {
   "cell_type": "code",
   "execution_count": 5,
   "metadata": {},
   "outputs": [],
   "source": [
    "my_dashboard_name = config['title']\n",
    "voila_base_url = config['server_url'] + '/voila/render/'"
   ]
  },
  {
   "cell_type": "code",
   "execution_count": 6,
   "metadata": {},
   "outputs": [],
   "source": [
    "additional = []\n",
    "if 'additional' in config.keys():\n",
    "    additional = [dictionary for key, dictionary in config['additional'].items()]"
   ]
  },
  {
   "cell_type": "code",
   "execution_count": 7,
   "metadata": {},
   "outputs": [],
   "source": [
    "lst = []\n",
    "if 'app_bar_links' in config.keys():\n",
    "    lst = [\n",
    "        v.Btn(children=[name], flat=True, href=link, target='_blank')\n",
    "        for name, link in config['app_bar_links'].items()\n",
    "    ]"
   ]
  },
  {
   "cell_type": "code",
   "execution_count": 8,
   "metadata": {},
   "outputs": [],
   "source": [
    "all_files = [f for f in os.listdir('.') if os.path.isfile(f)]\n",
    "all_files.remove('homepage.ipynb')"
   ]
  },
  {
   "cell_type": "code",
   "execution_count": 9,
   "metadata": {},
   "outputs": [],
   "source": [
    "files = []\n",
    "for file in all_files:\n",
    "    extension = file.split('.')[-1]\n",
    "    if extension == 'ipynb':\n",
    "        files.append(file)"
   ]
  },
  {
   "cell_type": "code",
   "execution_count": 10,
   "metadata": {},
   "outputs": [],
   "source": [
    "items = []\n",
    "for i, f in enumerate(files):\n",
    "    this_item = {}\n",
    "    this_item['title'] = f\n",
    "    this_item['description'] = 'A Jupyter Notebook.'\n",
    "    this_item['link'] = voila_base_url + f\n",
    "    this_item['logo'] = 'https://jupyter.org/assets/nav_logo.svg'\n",
    "\n",
    "    nb = sb.read_notebook(f)\n",
    "    for key, value in nb.scraps.data_dict.items():\n",
    "        this_item[key] = value\n",
    "    items.append(this_item)"
   ]
  },
  {
   "cell_type": "code",
   "execution_count": 11,
   "metadata": {},
   "outputs": [],
   "source": [
    "items.extend(additional)"
   ]
  },
  {
   "cell_type": "code",
   "execution_count": 12,
   "metadata": {},
   "outputs": [],
   "source": [
    "toolbar = v.Toolbar(color=title_bar_color, dark=True,\n",
    "    children=[\n",
    "        v.ToolbarItems(children=[v.Img(src=logo['jupyter'], style_='height:100%')]),\n",
    "        v.ToolbarTitle(children=[my_dashboard_name], color='green'),\n",
    "        v.Spacer(), # Fills empty space\n",
    "        v.ToolbarItems(children=lst)\n",
    "    ],\n",
    "    app=True\n",
    ")"
   ]
  },
  {
   "cell_type": "code",
   "execution_count": 13,
   "metadata": {},
   "outputs": [],
   "source": [
    "cards = [\n",
    "    v.Flex(ma_2=True, children=[\n",
    "        v.Card(class_='mx-auto', hover=True, #elevation=5,\n",
    "               align_center=True,\n",
    "               min_height='250px',\n",
    "               min_width='300px',\n",
    "               max_height='250px',\n",
    "               max_width='300px',\n",
    "               href=details['link'],\n",
    "               target='_blank',\n",
    "               children=[\n",
    "                   v.CardTitle(children=[v.Html(tag='div', class_='headline mb-0', children=[details['title']])]),\n",
    "                   v.CardText(children=[details['description']]),\n",
    "                   v.Footer(children=[v.Img(class_='ma-3', src=details['logo'], max_width=80, contain=True)], absolute=True),\n",
    "               ])\n",
    "    ])\n",
    "    for details in items\n",
    "]"
   ]
  },
  {
   "cell_type": "code",
   "execution_count": 14,
   "metadata": {},
   "outputs": [],
   "source": [
    "app = v.Container(\n",
    "    fluid = True,\n",
    "    children = [\n",
    "        toolbar,\n",
    "        v.Layout(ma_5=True, wrap=True, children=cards)\n",
    "    ]\n",
    ")"
   ]
  },
  {
   "cell_type": "code",
   "execution_count": 15,
   "metadata": {},
   "outputs": [],
   "source": [
    "app"
   ]
  },
  {
   "cell_type": "code",
   "execution_count": null,
   "metadata": {},
   "outputs": [],
   "source": []
  },
  {
   "cell_type": "code",
   "execution_count": 16,
   "metadata": {},
   "outputs": [],
   "source": [
    "img=v.Img(class_='ma-3', src='https://jupyter.org/assets/nav_logo.svg', max_width=80, contain=True)"
   ]
  },
  {
   "cell_type": "code",
   "execution_count": 33,
   "metadata": {},
   "outputs": [],
   "source": [
    "z = v.Card(class_='mx-auto', elevation=5,\n",
    "               align_center=True,\n",
    "               min_height='300px',\n",
    "               min_width='400px',\n",
    "               max_height='300px',\n",
    "               max_width='400px',\n",
    "               children=[\n",
    "                   v.CardTitle(children=[v.Html(tag='div', class_='headline mb-0', children=['title'])]),\n",
    "                   v.CardText(children=['description']),\n",
    "                   v.Flex(children=[v.Footer(class_='ma-4', children=[img], absolute=True)]),\n",
    "               ])"
   ]
  },
  {
   "cell_type": "code",
   "execution_count": null,
   "metadata": {},
   "outputs": [],
   "source": []
  },
  {
   "cell_type": "code",
   "execution_count": 37,
   "metadata": {},
   "outputs": [],
   "source": [
    "tabs = v.Tabs(v_model='tab', color='grey lighten-5', fixed_tabs=True, children=[\n",
    "    v.Tab(children=['released']),\n",
    "    v.Tab(children=['beta']),\n",
    "    v.TabItem(children=[v.Layout(ma_5=True, wrap=True, children=cards)]),\n",
    "    v.TabItem(children=[v.Layout(ma_5=True, wrap=True, children=['cards'])])\n",
    "])"
   ]
  },
  {
   "cell_type": "code",
   "execution_count": null,
   "metadata": {},
   "outputs": [],
   "source": []
  },
  {
   "cell_type": "code",
   "execution_count": 38,
   "metadata": {},
   "outputs": [],
   "source": [
    "app = v.App(\n",
    "    children = [\n",
    "        toolbar,\n",
    "        v.Container(fluid=True, mt_5=True, children = [\n",
    "            v.Layout(children=[\n",
    "                v.Flex(children=[tabs])\n",
    "        ])\n",
    "    ])\n",
    "])"
   ]
  },
  {
   "cell_type": "code",
   "execution_count": 39,
   "metadata": {},
   "outputs": [
    {
     "data": {
      "application/vnd.jupyter.widget-view+json": {
       "model_id": "24a00fff4d254dd88d41af638e332370",
       "version_major": 2,
       "version_minor": 0
      },
      "text/plain": [
       "App(children=[Toolbar(app=True, children=[ToolbarItems(children=[Img(src='https://jupyter.org/assets/nav_logo.…"
      ]
     },
     "metadata": {},
     "output_type": "display_data"
    }
   ],
   "source": [
    "#app"
   ]
  },
  {
   "cell_type": "code",
   "execution_count": 21,
   "metadata": {},
   "outputs": [],
   "source": [
    "??v.Tabs"
   ]
  },
  {
   "cell_type": "code",
   "execution_count": null,
   "metadata": {},
   "outputs": [],
   "source": []
  }
 ],
 "metadata": {
  "kernelspec": {
   "display_name": "Python 3",
   "language": "python",
   "name": "python3"
  },
  "language_info": {
   "codemirror_mode": {
    "name": "ipython",
    "version": 3
   },
   "file_extension": ".py",
   "mimetype": "text/x-python",
   "name": "python",
   "nbconvert_exporter": "python",
   "pygments_lexer": "ipython3",
   "version": "3.6.6"
  }
 },
 "nbformat": 4,
 "nbformat_minor": 2
}
