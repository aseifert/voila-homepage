{
 "cells": [
  {
   "cell_type": "code",
   "execution_count": 249,
   "metadata": {},
   "outputs": [],
   "source": [
    "import os\n",
    "import ipyvuetify as v\n",
    "import scrapbook as sb\n",
    "import yaml"
   ]
  },
  {
   "cell_type": "code",
   "execution_count": 250,
   "metadata": {},
   "outputs": [],
   "source": [
    "with open('config.yml', 'r') as f:\n",
    "    config = yaml.safe_load(f)"
   ]
  },
  {
   "cell_type": "code",
   "execution_count": 251,
   "metadata": {},
   "outputs": [],
   "source": [
    "logo = {\n",
    "    'jupyter': 'https://jupyter.org/assets/nav_logo.svg'\n",
    "}"
   ]
  },
  {
   "cell_type": "code",
   "execution_count": 252,
   "metadata": {},
   "outputs": [],
   "source": [
    "my_dashboard_name = config['title']\n",
    "voila_base_url = config['server_url'] + '/voila/render/'"
   ]
  },
  {
   "cell_type": "code",
   "execution_count": 253,
   "metadata": {},
   "outputs": [],
   "source": [
    "additional = []\n",
    "if 'additional' in config.keys():\n",
    "    additional = [dictionary for key, dictionary in config['additional'].items()]"
   ]
  },
  {
   "cell_type": "code",
   "execution_count": 254,
   "metadata": {},
   "outputs": [],
   "source": [
    "lst = []\n",
    "if 'app_bar_links' in config.keys():\n",
    "    lst = [\n",
    "        v.Btn(children=[name], flat=True, href=link, target='_blank')\n",
    "        for name, link in config['app_bar_links'].items()\n",
    "    ]"
   ]
  },
  {
   "cell_type": "code",
   "execution_count": 255,
   "metadata": {},
   "outputs": [],
   "source": [
    "all_files = [f for f in os.listdir('.') if os.path.isfile(f)]\n",
    "all_files.remove('homepage.ipynb')"
   ]
  },
  {
   "cell_type": "code",
   "execution_count": 256,
   "metadata": {},
   "outputs": [],
   "source": [
    "files = []\n",
    "for file in all_files:\n",
    "    extension = file.split('.')[-1]\n",
    "    if extension == 'ipynb':\n",
    "        files.append(file)"
   ]
  },
  {
   "cell_type": "code",
   "execution_count": 257,
   "metadata": {},
   "outputs": [],
   "source": [
    "items = []\n",
    "for i, f in enumerate(files):\n",
    "    this_item = {}\n",
    "    this_item['title'] = f\n",
    "    this_item['description'] = 'A Jupyter Notebook.'\n",
    "    this_item['link'] = voila_base_url + f\n",
    "    this_item['logo'] = 'https://jupyter.org/assets/nav_logo.svg'\n",
    "\n",
    "    nb = sb.read_notebook(f)\n",
    "    for key, value in nb.scraps.data_dict.items():\n",
    "        this_item[key] = value\n",
    "    items.append(this_item)"
   ]
  },
  {
   "cell_type": "code",
   "execution_count": 258,
   "metadata": {},
   "outputs": [],
   "source": [
    "items.extend(additional)"
   ]
  },
  {
   "cell_type": "code",
   "execution_count": 259,
   "metadata": {},
   "outputs": [],
   "source": [
    "toolbar = v.Toolbar(color='orange',\n",
    "    children=[\n",
    "        v.ToolbarTitle(children=[my_dashboard_name]),\n",
    "        v.Spacer(), # Fills empty space\n",
    "        v.ToolbarItems(children=lst)\n",
    "    ],\n",
    "    app=True\n",
    ")"
   ]
  },
  {
   "cell_type": "code",
   "execution_count": 260,
   "metadata": {},
   "outputs": [],
   "source": [
    "cards = [\n",
    "    v.Flex(ma_2=True, children=[\n",
    "        v.Card(class_='mx-auto', hover=True, #elevation=5,\n",
    "               align_center=True,\n",
    "               min_height='250px',\n",
    "               min_width='300px',\n",
    "               max_height='250px',\n",
    "               max_width='300px',\n",
    "               href=details['link'],\n",
    "               target='_blank',\n",
    "               children=[\n",
    "                   v.CardTitle(children=[v.Html(tag='div', class_='headline mb-0', children=[details['title']])]),\n",
    "                   v.CardText(children=[details['description']]),\n",
    "                   v.Footer(children=[v.Img(class_='ma-3', src=details['logo'], max_width=80, contain=True)], absolute=True),\n",
    "               ])\n",
    "    ])\n",
    "    for details in items\n",
    "]"
   ]
  },
  {
   "cell_type": "code",
   "execution_count": 261,
   "metadata": {},
   "outputs": [],
   "source": [
    "app = v.Container(\n",
    "    fluid = True,\n",
    "    children = [\n",
    "        toolbar,\n",
    "        v.Layout(ma_5=True, wrap=True, children=cards)\n",
    "    ]\n",
    ")"
   ]
  },
  {
   "cell_type": "code",
   "execution_count": 262,
   "metadata": {},
   "outputs": [
    {
     "data": {
      "application/vnd.jupyter.widget-view+json": {
       "model_id": "858b380536aa4cc180a4dd15d6a8ae04",
       "version_major": 2,
       "version_minor": 0
      },
      "text/plain": [
       "Container(children=[Toolbar(app=True, children=[ToolbarTitle(children=['My Voila Homepage']), Spacer(), Toolba…"
      ]
     },
     "metadata": {},
     "output_type": "display_data"
    }
   ],
   "source": [
    "app"
   ]
  },
  {
   "cell_type": "code",
   "execution_count": null,
   "metadata": {},
   "outputs": [],
   "source": []
  },
  {
   "cell_type": "code",
   "execution_count": 265,
   "metadata": {},
   "outputs": [],
   "source": [
    "img=v.Img(class_='ma-3', src='https://jupyter.org/assets/nav_logo.svg', max_width=80, contain=True)"
   ]
  },
  {
   "cell_type": "code",
   "execution_count": 266,
   "metadata": {},
   "outputs": [],
   "source": [
    "z = v.Card(class_='mx-auto', elevation=5,\n",
    "               align_center=True,\n",
    "               min_height='300px',\n",
    "               min_width='400px',\n",
    "               max_height='300px',\n",
    "               max_width='400px',\n",
    "               children=[\n",
    "                   v.CardTitle(children=[v.Html(tag='div', class_='headline mb-0', children=['title'])]),\n",
    "                   v.CardText(children=['description']),\n",
    "                   v.Flex(children=[v.Footer(class_='ma-3', children=[img], absolute=True)]),\n",
    "               ])"
   ]
  },
  {
   "cell_type": "code",
   "execution_count": null,
   "metadata": {},
   "outputs": [],
   "source": []
  },
  {
   "cell_type": "code",
   "execution_count": 267,
   "metadata": {},
   "outputs": [],
   "source": [
    "??v.CardText"
   ]
  },
  {
   "cell_type": "code",
   "execution_count": null,
   "metadata": {},
   "outputs": [],
   "source": []
  }
 ],
 "metadata": {
  "kernelspec": {
   "display_name": "Python 3",
   "language": "python",
   "name": "python3"
  },
  "language_info": {
   "codemirror_mode": {
    "name": "ipython",
    "version": 3
   },
   "file_extension": ".py",
   "mimetype": "text/x-python",
   "name": "python",
   "nbconvert_exporter": "python",
   "pygments_lexer": "ipython3",
   "version": "3.6.6"
  }
 },
 "nbformat": 4,
 "nbformat_minor": 2
}
