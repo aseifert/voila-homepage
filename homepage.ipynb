{
 "cells": [
  {
   "cell_type": "code",
   "execution_count": 83,
   "metadata": {},
   "outputs": [],
   "source": [
    "import os\n",
    "import ipyvuetify as v\n",
    "import scrapbook as sb\n",
    "import yaml\n",
    "import shutil"
   ]
  },
  {
   "cell_type": "code",
   "execution_count": 84,
   "metadata": {},
   "outputs": [],
   "source": [
    "with open('config.yml', 'r') as f:\n",
    "    config = yaml.safe_load(f)"
   ]
  },
  {
   "cell_type": "code",
   "execution_count": 85,
   "metadata": {},
   "outputs": [],
   "source": [
    "config.setdefault('voila_nb_path', '.');"
   ]
  },
  {
   "cell_type": "code",
   "execution_count": 86,
   "metadata": {},
   "outputs": [],
   "source": [
    "voila_nb_path = config['voila_nb_path']"
   ]
  },
  {
   "cell_type": "code",
   "execution_count": 87,
   "metadata": {},
   "outputs": [],
   "source": [
    "title_bar_color = config['title_bar_color']"
   ]
  },
  {
   "cell_type": "code",
   "execution_count": 88,
   "metadata": {},
   "outputs": [],
   "source": [
    "logo = {\n",
    "    'jupyter': 'https://jupyter.org/assets/nav_logo.svg'\n",
    "}"
   ]
  },
  {
   "cell_type": "code",
   "execution_count": 89,
   "metadata": {},
   "outputs": [],
   "source": [
    "my_dashboard_name = config['title']\n",
    "voila_base_url = config['server_url'] + '/voila/render/'"
   ]
  },
  {
   "cell_type": "code",
   "execution_count": 90,
   "metadata": {},
   "outputs": [],
   "source": [
    "additional = []\n",
    "if 'additional' in config.keys():\n",
    "    additional = [dictionary for key, dictionary in config['additional'].items()]"
   ]
  },
  {
   "cell_type": "code",
   "execution_count": 91,
   "metadata": {},
   "outputs": [],
   "source": [
    "lst = []\n",
    "if 'app_bar_links' in config.keys():\n",
    "    lst = [\n",
    "        v.Btn(children=[name], flat=True, href=link, target='_blank')\n",
    "        for name, link in config['app_bar_links'].items()\n",
    "    ]"
   ]
  },
  {
   "cell_type": "code",
   "execution_count": 92,
   "metadata": {},
   "outputs": [],
   "source": [
    "stages = ['released', 'beta']"
   ]
  },
  {
   "cell_type": "code",
   "execution_count": 93,
   "metadata": {},
   "outputs": [],
   "source": [
    "structure = {}\n",
    "for stage in stages:\n",
    "    all_files = [f for f in os.listdir('./'+stage) if os.path.isfile('./'+stage+'/'+f)]\n",
    "    files = []\n",
    "    for file in all_files:\n",
    "        extension = file.split('.')[-1]\n",
    "        if extension == 'ipynb':\n",
    "            files.append(file)\n",
    "    items = []\n",
    "    for i, f in enumerate(files):\n",
    "        this_item = {}\n",
    "        this_item['title'] = f\n",
    "        this_item['description'] = 'A Jupyter Notebook.'\n",
    "        this_item['link'] = voila_base_url + f\n",
    "        this_item['logo'] = 'https://jupyter.org/assets/nav_logo.svg'\n",
    "        this_item['fname_'] = f       \n",
    "        this_item['fname'] = stage+'/'+f\n",
    "\n",
    "        nb = sb.read_notebook('./' + stage + '/' +f)\n",
    "        for key, value in nb.scraps.data_dict.items():\n",
    "            this_item[key] = value\n",
    "        items.append(this_item)\n",
    "        structure[stage] = items"
   ]
  },
  {
   "cell_type": "code",
   "execution_count": 94,
   "metadata": {},
   "outputs": [],
   "source": [
    "structure['released'].extend(additional)"
   ]
  },
  {
   "cell_type": "code",
   "execution_count": 95,
   "metadata": {},
   "outputs": [],
   "source": [
    "toolbar = v.Toolbar(color=title_bar_color, dark=True,\n",
    "    children=[\n",
    "        v.ToolbarItems(children=[v.Img(src=logo['jupyter'], style_='height:100%')]),\n",
    "        v.ToolbarTitle(children=[my_dashboard_name], color='green'),\n",
    "        v.Spacer(), # Fills empty space\n",
    "        v.ToolbarItems(children=lst)\n",
    "    ],\n",
    "    app=True\n",
    ")"
   ]
  },
  {
   "cell_type": "code",
   "execution_count": 96,
   "metadata": {},
   "outputs": [],
   "source": [
    "items = structure['released']"
   ]
  },
  {
   "cell_type": "code",
   "execution_count": 97,
   "metadata": {},
   "outputs": [],
   "source": [
    "# this only works if voila is started in a dir; it needs to work if voila is given a target dir\n",
    "\n",
    "moves = [\n",
    "    v.Btn(icon=True, href='./homepage.ipynb', children=[v.Icon(color='grey', children=['redo'])])\n",
    "    for i, details in enumerate(items)\n",
    "]\n",
    "\n",
    "\n",
    "def on_move_click(widget, event, data):\n",
    "    fname = (structure['released'][moves.index(widget)]['fname_'])\n",
    "    shutil.move(voila_nb_path+'/released/'+fname, voila_nb_path+'/beta/'+fname)\n",
    "    \n",
    "for button in moves:\n",
    "    button.on_event('click', on_move_click)\n",
    "\n"
   ]
  },
  {
   "cell_type": "code",
   "execution_count": 98,
   "metadata": {},
   "outputs": [],
   "source": [
    "cards = [\n",
    "    v.Flex(ma_2=True, fluid=True, children = [\n",
    "        v.Card(hover=True, #class_='mx-auto', elevation=5,\n",
    "               align_center=True,\n",
    "               fluid=True,\n",
    "               #height='100%',\n",
    "               #min_height='250px',\n",
    "               min_width='300px',\n",
    "               max_width='300px',\n",
    "               href=details['link'],\n",
    "               target='_blank',\n",
    "               children=[\n",
    "                   v.CardTitle(children=[\n",
    "                       v.Html(tag='div', class_='headline mb-0', children=[details['title']]),\n",
    "                       v.Spacer(),\n",
    "                       #v.Btn(icon=True, href=details['link'], target='blank_', children=[v.Icon(color='grey', children=['launch'])])\n",
    "                   ]),\n",
    "                   v.CardText(children=[details['description']]),\n",
    "                   v.CardActions(ma_3=True, children=[\n",
    "                       moves[i],\n",
    "                       v.Spacer(),\n",
    "                       v.Img(src=details['logo'], max_width=80, contain=True)])\n",
    "               ])\n",
    "    ])\n",
    "    for i, details in enumerate(items)\n",
    "]"
   ]
  },
  {
   "cell_type": "code",
   "execution_count": 105,
   "metadata": {},
   "outputs": [],
   "source": [
    "try:\n",
    "    items = structure['beta']\n",
    "except:\n",
    "    items = []\n",
    "\n",
    "dels = [\n",
    "    v.Btn(icon=True, href='./homepage.ipynb', children=[v.Icon(color='grey', children=['delete'])])\n",
    "    for i, details in enumerate(items)\n",
    "]\n",
    "\n",
    "def on_del_click(widget, event, data):\n",
    "    fname = (items[dels.index(widget)]['fname_'])\n",
    "    if not os.path.exists(voila_nb_path+'/deleted'):\n",
    "        os.makedirs(voila_nb_path+'/deleted')\n",
    "    shutil.move(voila_nb_path+'/beta/'+fname, voila_nb_path+'/deleted/'+fname)\n",
    "\n",
    "for button in dels:\n",
    "    button.on_event('click', on_del_click)\n",
    "    \n",
    "promotes = [\n",
    "    v.Btn(icon=True, href='./homepage.ipynb', children=[v.Icon(color='grey', children=['undo'])])\n",
    "    for i, details in enumerate(items)   \n",
    "]\n",
    "\n",
    "def on_promote_click(widget, event, data):\n",
    "    fname = (structure['beta'][promotes.index(widget)]['fname_'])\n",
    "    shutil.move(voila_nb_path+'/beta/'+fname, voila_nb_path+'/released/'+fname)\n",
    "\n",
    "for button in promotes:\n",
    "    button.on_event('click', on_promote_click)"
   ]
  },
  {
   "cell_type": "code",
   "execution_count": 106,
   "metadata": {},
   "outputs": [],
   "source": [
    "cards_b = [\n",
    "    v.Flex(ma_2=True, fluid=True, children = [\n",
    "        v.Card(hover=True, #class_='mx-auto', elevation=5,\n",
    "               align_center=True,\n",
    "               fluid=True,\n",
    "               #height='100%',\n",
    "               #min_height='250px',\n",
    "               min_width='300px',\n",
    "               max_width='300px',\n",
    "               href=details['link'],\n",
    "               target='_blank',\n",
    "               children=[\n",
    "                   v.CardTitle(children=[\n",
    "                       v.Html(tag='div', class_='headline mb-0', children=[details['title']]),\n",
    "                       v.Spacer(),\n",
    "                       #v.Btn(icon=True, href=details['link'], target='blank_', children=[v.Icon(color='grey', children=['launch'])])\n",
    "                   ]),\n",
    "                   v.CardText(children=[details['description']]),\n",
    "                   v.CardActions(ma_3=True, children=[\n",
    "                       promotes[i],\n",
    "                       dels[i],\n",
    "                       v.Spacer(),\n",
    "                       v.Img(src=details['logo'], max_width=80, contain=True)])\n",
    "               ])\n",
    "    ])\n",
    "    for i, details in enumerate(items)\n",
    "]"
   ]
  },
  {
   "cell_type": "code",
   "execution_count": 107,
   "metadata": {},
   "outputs": [],
   "source": [
    "tabs = v.Tabs(v_model='tab', color='grey lighten-5', fixed_tabs=True, children=[\n",
    "    v.Tab(children=['released']),\n",
    "    v.Tab(children=['beta']),\n",
    "    v.TabItem(children=[v.Layout(ma_5=True, wrap=True, children=cards)]),\n",
    "    v.TabItem(children=[v.Layout(ma_5=True, wrap=True, children=cards_b)])\n",
    "])\n",
    "\n",
    "app = v.App(\n",
    "    style_=\"background: white\",#3A1C71\",\n",
    "    children = [\n",
    "        toolbar,\n",
    "        v.Container(fluid=True, mt_3=True, children = [\n",
    "            v.Layout(children=[\n",
    "                v.Flex(children=[tabs])\n",
    "        ])\n",
    "    ])\n",
    "])\n"
   ]
  },
  {
   "cell_type": "code",
   "execution_count": 108,
   "metadata": {},
   "outputs": [
    {
     "data": {
      "application/vnd.jupyter.widget-view+json": {
       "model_id": "1035999e52b14f65af48ead9564e7335",
       "version_major": 2,
       "version_minor": 0
      },
      "text/plain": [
       "App(children=[Toolbar(app=True, children=[ToolbarItems(children=[Img(src='https://jupyter.org/assets/nav_logo.…"
      ]
     },
     "metadata": {},
     "output_type": "display_data"
    }
   ],
   "source": [
    "app"
   ]
  },
  {
   "cell_type": "code",
   "execution_count": 61,
   "metadata": {},
   "outputs": [],
   "source": [
    "    # delete = v.Btn(color='warn', children=['delete'])\n",
    "    # cancel = v.Btn(children=['cancel'])\n",
    "    # def close_dialog(a,b,c):\n",
    "    #     dlg.v_model=False\n",
    "    # cancel.on_event('click', close_dialog)"
   ]
  },
  {
   "cell_type": "code",
   "execution_count": 18,
   "metadata": {},
   "outputs": [],
   "source": [
    "\n",
    "# items = [v.ListTile(children=[\n",
    "#     v.ListTileTitle(children=[\n",
    "#         f'Click me {i}'])]) \n",
    "#          for i in range(1, 5)]\n",
    "# dlst = v.List(children=items)"
   ]
  },
  {
   "cell_type": "code",
   "execution_count": 19,
   "metadata": {},
   "outputs": [],
   "source": [
    "??v.Footer\n"
   ]
  },
  {
   "cell_type": "code",
   "execution_count": 20,
   "metadata": {},
   "outputs": [],
   "source": [
    "# img=v.Img(class_='ma-3', src='https://jupyter.org/assets/nav_logo.svg', max_width=80, contain=True)"
   ]
  },
  {
   "cell_type": "code",
   "execution_count": 21,
   "metadata": {},
   "outputs": [],
   "source": [
    "# z = v.Card(class_='mx-auto', elevation=5,\n",
    "#                align_center=True,\n",
    "#                min_height='300px',\n",
    "#                min_width='400px',\n",
    "#                max_height='300px',\n",
    "#                max_width='400px',\n",
    "#                children=[\n",
    "#                    v.CardTitle(children=[v.Html(tag='div', class_='headline mb-0', children=['title'])]),\n",
    "#                    v.CardText(children=['description']),\n",
    "#                    v.Flex(children=[v.Footer(class_='ma-3', children=[img], absolute=True)]),\n",
    "#                ])"
   ]
  },
  {
   "cell_type": "code",
   "execution_count": null,
   "metadata": {},
   "outputs": [],
   "source": []
  },
  {
   "cell_type": "code",
   "execution_count": 22,
   "metadata": {
    "slideshow": {
     "slide_type": "slide"
    }
   },
   "outputs": [],
   "source": [
    "#dlst"
   ]
  },
  {
   "cell_type": "code",
   "execution_count": 23,
   "metadata": {},
   "outputs": [],
   "source": [
    "# dlg = v.Dialog(v_model=False, width='500', children=[\n",
    "#         v.Btn(icon=True, slot='activator', small=True, children=[v.Icon(color='grey', children=['delete'])]),\n",
    "#         v.Card(children=[\n",
    "#             v.CardTitle(children=['Delete Notebook']),\n",
    "#             v.CardMedia(children=[\n",
    "#                dlst\n",
    "#             ]),\n",
    "#             v.CardActions(children=[cancel, delete])\n",
    "#         ])\n",
    "# ])"
   ]
  },
  {
   "cell_type": "code",
   "execution_count": 27,
   "metadata": {},
   "outputs": [],
   "source": [
    "??v.App"
   ]
  },
  {
   "cell_type": "code",
   "execution_count": null,
   "metadata": {},
   "outputs": [],
   "source": []
  }
 ],
 "metadata": {
  "kernelspec": {
   "display_name": "Python 3",
   "language": "python",
   "name": "python3"
  },
  "language_info": {
   "codemirror_mode": {
    "name": "ipython",
    "version": 3
   },
   "file_extension": ".py",
   "mimetype": "text/x-python",
   "name": "python",
   "nbconvert_exporter": "python",
   "pygments_lexer": "ipython3",
   "version": "3.6.6"
  }
 },
 "nbformat": 4,
 "nbformat_minor": 2
}
