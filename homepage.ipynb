{
 "cells": [
  {
   "cell_type": "code",
   "execution_count": null,
   "metadata": {
    "Collapsed": "false"
   },
   "outputs": [],
   "source": [
    "import ipyvuetify as v\n",
    "import scrapbook as sb\n",
    "import yaml\n",
    "from pathlib import Path"
   ]
  },
  {
   "cell_type": "code",
   "execution_count": null,
   "metadata": {
    "Collapsed": "false"
   },
   "outputs": [],
   "source": [
    "with open('config.yml', 'r') as f:\n",
    "    config = yaml.safe_load(f)\n",
    "\n",
    "dashboard_name  = config.get('title', '')\n",
    "server_url      = config.get('server_url', 'http://localhost:8866')\n",
    "voila_nb_path   = Path(config.get('voila_nb_path', '.'))\n",
    "title_bar_color = config.get('title_bar_color', 'orange')\n",
    "voila_base_url  = server_url + '/voila/render/'\n",
    "\n",
    "logo = { 'jupyter': 'https://jupyter.org/assets/nav_logo.svg' }"
   ]
  },
  {
   "cell_type": "code",
   "execution_count": null,
   "metadata": {
    "Collapsed": "false"
   },
   "outputs": [],
   "source": [
    "app_bar_links = [\n",
    "    v.Btn(children=[name], flat=True, href=link, target='_blank')\n",
    "    for name, link in config.get('app_bar_links', {}).items()\n",
    "]"
   ]
  },
  {
   "cell_type": "code",
   "execution_count": null,
   "metadata": {
    "Collapsed": "false",
    "lines_to_next_cell": 2
   },
   "outputs": [],
   "source": [
    "filelist = {}\n",
    "\n",
    "stages = [p for p in voila_nb_path.glob('*') if p.is_dir() and not str(p).startswith(\".\")]\n",
    "\n",
    "for stage in stages:\n",
    "    files = stage.glob(\"*.ipynb\")\n",
    "\n",
    "    items = []\n",
    "    for f in files:\n",
    "        this_item = {}\n",
    "        this_item['title'] = f.name\n",
    "        this_item['description'] = 'A Jupyter Notebook.'\n",
    "        this_item['link'] = voila_base_url + str(f)\n",
    "        this_item['logo'] = 'https://jupyter.org/assets/nav_logo.svg'\n",
    "        this_item['fname'] = str(f)\n",
    "\n",
    "        nb = sb.read_notebook(str(f))\n",
    "        for key, value in nb.scraps.data_dict.items():\n",
    "            this_item[key] = value\n",
    "        items.append(this_item)\n",
    "\n",
    "    filelist[stage.name] = items"
   ]
  },
  {
   "cell_type": "code",
   "execution_count": null,
   "metadata": {
    "Collapsed": "false"
   },
   "outputs": [],
   "source": [
    "# build toolbar\n",
    "toolbar = v.Toolbar(color=title_bar_color, dark=True, children=[\n",
    "    v.ToolbarItems(children=[v.Img(src=logo['jupyter'], style_='height:100%')]),\n",
    "    v.ToolbarTitle(children=[dashboard_name], color='green'),\n",
    "    v.Spacer(),\n",
    "    v.ToolbarItems(children=app_bar_links)\n",
    "], app=True)"
   ]
  },
  {
   "cell_type": "code",
   "execution_count": null,
   "metadata": {
    "Collapsed": "false",
    "lines_to_next_cell": 2
   },
   "outputs": [],
   "source": [
    "tab_children = []\n",
    "\n",
    "for stage in sorted(filelist.keys()):\n",
    "    items = filelist[stage]\n",
    "    cards = [\n",
    "        v.Flex(ma_2=True, fluid=True, children=[\n",
    "            v.Card(hover=True,\n",
    "                   align_center=True,\n",
    "                   fluid=True,\n",
    "                   min_width='300px',\n",
    "                   max_width='300px',\n",
    "                   href=details['link'],\n",
    "                   target='_blank',\n",
    "                   children=[\n",
    "                       v.CardTitle(children=[\n",
    "                           v.Html(tag='div', class_='headline mb-0', children=[details['title']]),\n",
    "                           v.Spacer(),\n",
    "                       ]),\n",
    "                       v.CardText(children=[details['description']]),\n",
    "                   ])\n",
    "        ])\n",
    "        for i, details in enumerate(items)\n",
    "    ]\n",
    "\n",
    "    tab_children.append(v.Tab(children=[stage]))\n",
    "    tab_children.append(v.TabItem(children=[v.Layout(ma_5=True, wrap=True, children=cards)]))"
   ]
  },
  {
   "cell_type": "code",
   "execution_count": null,
   "metadata": {
    "Collapsed": "false"
   },
   "outputs": [],
   "source": [
    "tabs = v.Tabs(v_model='tab', color='grey lighten-5', fixed_tabs=True, children=tab_children)\n",
    "\n",
    "app = v.App(\n",
    "    style_=\"background: white\",\n",
    "    children=[\n",
    "        toolbar,\n",
    "        v.Container(fluid=True, mt_3=True, children=[\n",
    "            v.Layout(children=[\n",
    "                v.Flex(children=[tabs])\n",
    "            ])\n",
    "        ])\n",
    "    ]\n",
    ")"
   ]
  },
  {
   "cell_type": "code",
   "execution_count": null,
   "metadata": {
    "Collapsed": "false"
   },
   "outputs": [],
   "source": [
    "app"
   ]
  },
  {
   "cell_type": "code",
   "execution_count": null,
   "metadata": {
    "Collapsed": "false"
   },
   "outputs": [],
   "source": []
  }
 ],
 "metadata": {
  "jupytext": {
   "formats": "ipynb,py:light"
  },
  "kernelspec": {
   "display_name": "Python 3",
   "language": "python",
   "name": "python3"
  },
  "language_info": {
   "codemirror_mode": {
    "name": "ipython",
    "version": 3
   },
   "file_extension": ".py",
   "mimetype": "text/x-python",
   "name": "python",
   "nbconvert_exporter": "python",
   "pygments_lexer": "ipython3",
   "version": "3.7.1"
  }
 },
 "nbformat": 4,
 "nbformat_minor": 4
}
