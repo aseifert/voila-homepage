{
 "cells": [
  {
   "cell_type": "code",
   "execution_count": 1,
   "metadata": {},
   "outputs": [],
   "source": [
    "import bqplot\n",
    "from bqplot import LinearScale, Lines, Figure, Axis, DateScale\n",
    "from bqplot.interacts import BrushIntervalSelector\n",
    "import ipywidgets as widgets\n",
    "import numpy as np\n",
    "import pandas as pd\n",
    "import qgrid\n",
    "\n",
    "periods = 1000\n",
    "security_1 = np.cumsum(np.random.randn(periods)) + 100.\n",
    "dates = pd.date_range(start='06-01-2007', periods=periods, freq='d')\n",
    "df = pd.DataFrame(index=dates, data=security_1)\n",
    "qg = qgrid.show_grid(df)"
   ]
  },
  {
   "cell_type": "code",
   "execution_count": 17,
   "metadata": {},
   "outputs": [],
   "source": [
    "def plot_and_brush_df(df):\n",
    "    \n",
    "    margins = dict(left=25, top=50, bottom=50, right=25)\n",
    "\n",
    "    x_dt = DateScale()\n",
    "    scale_y = LinearScale()\n",
    "    line = Lines(x=dates, y=security_1, scales={'x': x_dt, 'y': scale_y})\n",
    "    ax_x = Axis(scale=x_dt, grid_lines='solid')\n",
    "    ax_y = Axis(scale=scale_y, orientation='vertical', tick_format='0.0f')\n",
    "    brush = BrushIntervalSelector(scale=x_dt)\n",
    "    fig = Figure(axes=[ax_x, ax_y], marks=[line], fig_margin=margins, interaction=brush)\n",
    "\n",
    "\n",
    "    # we will share the same y scale\n",
    "    x_dt2 = DateScale()\n",
    "    ax_x2 = Axis(scale=x_dt2, grid_lines='solid')\n",
    "    ax_y2 = Axis(scale=scale_y, orientation='vertical',tick_format='0.0f')\n",
    "    line2 = Lines(x=[], y=[], scales={'x': x_dt2, 'y': scale_y})\n",
    "    fig2 = Figure(axes=[ax_x2, ax_y2], marks=[line2], fig_margin=margins)\n",
    "\n",
    "    def event_handler(name):\n",
    "        sel = brush.selected\n",
    "        if sel is None or len(sel) < 2:\n",
    "            line2.x=[]\n",
    "            line2.y=[]\n",
    "        else:\n",
    "            t_0 = pd.to_datetime(str(sel[0]))\n",
    "            t_1 = pd.to_datetime(str(sel[1]))\n",
    "            df_selected = df[t_0:t_1]\n",
    "            line2.x=df_selected.index\n",
    "            line2.y=df_selected.values.T[0]\n",
    "\n",
    "    brush.observe(event_handler)\n",
    "    return fig, fig2"
   ]
  },
  {
   "cell_type": "code",
   "execution_count": 15,
   "metadata": {},
   "outputs": [],
   "source": [
    "f1, f2 = plot_and_brush_df(df)"
   ]
  },
  {
   "cell_type": "code",
   "execution_count": 16,
   "metadata": {},
   "outputs": [
    {
     "data": {
      "application/vnd.jupyter.widget-view+json": {
       "model_id": "6ee3d6294c224e80a0a1986a979518a0",
       "version_major": 2,
       "version_minor": 0
      },
      "text/plain": [
       "HBox(children=(Figure(axes=[Axis(scale=DateScale(), side='bottom'), Axis(orientation='vertical', scale=LinearS…"
      ]
     },
     "metadata": {},
     "output_type": "display_data"
    }
   ],
   "source": [
    "widgets.HBox([f1, f2])"
   ]
  },
  {
   "cell_type": "code",
   "execution_count": null,
   "metadata": {},
   "outputs": [],
   "source": []
  }
 ],
 "metadata": {
  "kernelspec": {
   "display_name": "Python 3",
   "language": "python",
   "name": "python3"
  },
  "language_info": {
   "codemirror_mode": {
    "name": "ipython",
    "version": 3
   },
   "file_extension": ".py",
   "mimetype": "text/x-python",
   "name": "python",
   "nbconvert_exporter": "python",
   "pygments_lexer": "ipython3",
   "version": "3.6.6"
  }
 },
 "nbformat": 4,
 "nbformat_minor": 2
}
